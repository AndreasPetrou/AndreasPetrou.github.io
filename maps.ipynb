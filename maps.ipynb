{
  "cells": [
    {
      "cell_type": "markdown",
      "metadata": {
        "id": "view-in-github",
        "colab_type": "text"
      },
      "source": [
        "<a href=\"https://colab.research.google.com/github/AndreasPetrou/AndreasPetrou.github.io/blob/main/maps.ipynb\" target=\"_parent\"><img src=\"https://colab.research.google.com/assets/colab-badge.svg\" alt=\"Open In Colab\"/></a>"
      ]
    },
    {
      "cell_type": "code",
      "execution_count": 1,
      "metadata": {
        "id": "mxQ94tn5Qm53"
      },
      "outputs": [],
      "source": [
        "import requests, json, pandas as pd, numpy as np"
      ]
    },
    {
      "cell_type": "code",
      "execution_count": 22,
      "metadata": {
        "id": "SAGQqvTbWWW-"
      },
      "outputs": [],
      "source": [
        "topo=requests.get('https://raw.githubusercontent.com/deldersveld/topojson/master/world-countries.json').json()"
      ]
    },
    {
      "cell_type": "code",
      "execution_count": 25,
      "metadata": {
        "colab": {
          "base_uri": "https://localhost:8080/"
        },
        "id": "hgmF0oTkWXoO",
        "outputId": "eed7573c-7d1e-4053-d887-b22bcf7d0a17"
      },
      "outputs": [
        {
          "output_type": "stream",
          "name": "stdout",
          "text": [
            "Afghanistan\n",
            "Angola\n",
            "Albania\n",
            "United Arab Emirates\n",
            "Argentina\n",
            "Armenia\n",
            "Antarctica\n",
            "French Southern and Antarctic Lands\n",
            "Australia\n",
            "Austria\n",
            "Azerbaijan\n",
            "Burundi\n",
            "Belgium\n",
            "Benin\n",
            "Burkina Faso\n",
            "Bangladesh\n",
            "Bulgaria\n",
            "The Bahamas\n",
            "Bosnia and Herzegovina\n",
            "Belarus\n",
            "Belize\n",
            "Bermuda\n",
            "Bolivia\n",
            "Brazil\n",
            "Brunei\n",
            "Bhutan\n",
            "Botswana\n",
            "Central African Republic\n",
            "Canada\n",
            "Switzerland\n",
            "Chile\n",
            "China\n",
            "Ivory Coast\n",
            "Cameroon\n",
            "Democratic Republic of the Congo\n",
            "Republic of the Congo\n",
            "Colombia\n",
            "Costa Rica\n",
            "Cuba\n",
            "Northern Cyprus\n",
            "Cyprus\n",
            "Czech Republic\n",
            "Germany\n",
            "Djibouti\n",
            "Denmark\n",
            "Dominican Republic\n",
            "Algeria\n",
            "Ecuador\n",
            "Egypt\n",
            "Eritrea\n",
            "Spain\n",
            "Estonia\n",
            "Ethiopia\n",
            "Finland\n",
            "Fiji\n",
            "Falkland Islands\n",
            "France\n",
            "Gabon\n",
            "United Kingdom\n",
            "Georgia\n",
            "Ghana\n",
            "Guinea\n",
            "Gambia\n",
            "Guinea Bissau\n",
            "Equatorial Guinea\n",
            "Greece\n",
            "Greenland\n",
            "Guatemala\n",
            "French Guiana\n",
            "Guyana\n",
            "Honduras\n",
            "Croatia\n",
            "Haiti\n",
            "Hungary\n",
            "Indonesia\n",
            "India\n",
            "Ireland\n",
            "Iran\n",
            "Iraq\n",
            "Iceland\n",
            "Israel\n",
            "Italy\n",
            "Jamaica\n",
            "Jordan\n",
            "Japan\n",
            "Kazakhstan\n",
            "Kenya\n",
            "Kyrgyzstan\n",
            "Cambodia\n",
            "South Korea\n",
            "Kosovo\n",
            "Kuwait\n",
            "Laos\n",
            "Lebanon\n",
            "Liberia\n",
            "Libya\n",
            "Sri Lanka\n",
            "Lesotho\n",
            "Lithuania\n",
            "Luxembourg\n",
            "Latvia\n",
            "Morocco\n",
            "Moldova\n",
            "Madagascar\n",
            "Mexico\n",
            "Macedonia\n",
            "Mali\n",
            "Malta\n",
            "Myanmar\n",
            "Montenegro\n",
            "Mongolia\n",
            "Mozambique\n",
            "Mauritania\n",
            "Malawi\n",
            "Malaysia\n",
            "Namibia\n",
            "New Caledonia\n",
            "Niger\n",
            "Nigeria\n",
            "Nicaragua\n",
            "Netherlands\n",
            "Norway\n",
            "Nepal\n",
            "New Zealand\n",
            "Oman\n",
            "Pakistan\n",
            "Panama\n",
            "Peru\n",
            "Philippines\n",
            "Papua New Guinea\n",
            "Poland\n",
            "Puerto Rico\n",
            "North Korea\n",
            "Portugal\n",
            "Paraguay\n",
            "Qatar\n",
            "Romania\n",
            "Russia\n",
            "Rwanda\n",
            "Western Sahara\n",
            "Saudi Arabia\n",
            "Sudan\n",
            "South Sudan\n",
            "Senegal\n",
            "Solomon Islands\n",
            "Sierra Leone\n",
            "El Salvador\n",
            "Somaliland\n",
            "Somalia\n",
            "Republic of Serbia\n",
            "Suriname\n",
            "Slovakia\n",
            "Slovenia\n",
            "Sweden\n",
            "Swaziland\n",
            "Syria\n",
            "Chad\n",
            "Togo\n",
            "Thailand\n",
            "Tajikistan\n",
            "Turkmenistan\n",
            "East Timor\n",
            "Trinidad and Tobago\n",
            "Tunisia\n",
            "Turkey\n",
            "Taiwan\n",
            "United Republic of Tanzania\n",
            "Uganda\n",
            "Ukraine\n",
            "Uruguay\n",
            "United States of America\n",
            "Uzbekistan\n",
            "Venezuela\n",
            "Vietnam\n",
            "Vanuatu\n",
            "West Bank\n",
            "Yemen\n",
            "South Africa\n",
            "Zambia\n",
            "Zimbabwe\n"
          ]
        }
      ],
      "source": [
        "for i in topo['objects']['countries1']['geometries']:\n",
        "  print(i['properties']['name'])"
      ]
    },
    {
      "cell_type": "code",
      "execution_count": 83,
      "metadata": {
        "id": "KdhK_j_nWcn-"
      },
      "outputs": [],
      "source": [
        "import pandas as pd\n",
        "data=pd.read_csv('https://raw.githubusercontent.com/AndreasPetrou/AndreasPetrou.github.io/main/data_final.csv').set_index('country')"
      ]
    },
    {
      "cell_type": "code",
      "source": [
        "data['gbp'] = data['gbp'].astype(float)"
      ],
      "metadata": {
        "id": "nWY_LFMvkGpe"
      },
      "execution_count": 85,
      "outputs": []
    },
    {
      "cell_type": "code",
      "source": [
        "data"
      ],
      "metadata": {
        "id": "rAKhdgNqkOnE"
      },
      "execution_count": null,
      "outputs": []
    },
    {
      "cell_type": "code",
      "execution_count": 87,
      "metadata": {
        "colab": {
          "base_uri": "https://localhost:8080/"
        },
        "id": "6bEnYBVQWkot",
        "outputId": "23876f6f-89f5-40a2-d190-9d2b03b83575"
      },
      "outputs": [
        {
          "output_type": "stream",
          "name": "stdout",
          "text": [
            "Argentina found! Extending data..\n",
            "Austria found! Extending data..\n",
            "Belgium found! Extending data..\n",
            "Bulgaria found! Extending data..\n",
            "Bosnia and Herzegovina found! Extending data..\n",
            "Belarus found! Extending data..\n",
            "Brunei found! Extending data..\n",
            "Canada found! Extending data..\n",
            "Switzerland found! Extending data..\n",
            "Chile found! Extending data..\n",
            "China found! Extending data..\n",
            "Colombia found! Extending data..\n",
            "Cyprus found! Extending data..\n",
            "Germany found! Extending data..\n",
            "Dominican Republic found! Extending data..\n",
            "Spain found! Extending data..\n",
            "Estonia found! Extending data..\n",
            "Finland found! Extending data..\n",
            "France found! Extending data..\n",
            "United Kingdom found! Extending data..\n",
            "Guatemala found! Extending data..\n",
            "Italy found! Extending data..\n",
            "Jamaica found! Extending data..\n",
            "Jordan found! Extending data..\n",
            "Japan found! Extending data..\n",
            "Cambodia found! Extending data..\n",
            "South Korea found! Extending data..\n",
            "Kuwait found! Extending data..\n",
            "Lebanon found! Extending data..\n",
            "Luxembourg found! Extending data..\n",
            "Moldova found! Extending data..\n",
            "Mexico found! Extending data..\n",
            "Netherlands found! Extending data..\n",
            "Norway found! Extending data..\n",
            "New Zealand found! Extending data..\n",
            "Oman found! Extending data..\n",
            "Pakistan found! Extending data..\n",
            "Panama found! Extending data..\n",
            "Portugal found! Extending data..\n",
            "Romania found! Extending data..\n",
            "Russia found! Extending data..\n",
            "Saudi Arabia found! Extending data..\n",
            "Sweden found! Extending data..\n",
            "Thailand found! Extending data..\n",
            "Taiwan found! Extending data..\n",
            "Ukraine found! Extending data..\n",
            "United States of America found! Extending data..\n",
            "Vietnam found! Extending data..\n"
          ]
        }
      ],
      "source": [
        "for i in topo['objects']['countries1']['geometries']:\n",
        "  country=i['properties']['name']\n",
        "  if country in data.index:\n",
        "    print(country,'found! Extending data..')\n",
        "    i['properties']['gbp']=data.loc[country]['gbp']"
      ]
    },
    {
      "cell_type": "code",
      "execution_count": 88,
      "metadata": {
        "colab": {
          "base_uri": "https://localhost:8080/"
        },
        "id": "eDsY6ht0Wkhu",
        "outputId": "f1957b53-8bfa-4fed-fe51-c3747616a858"
      },
      "outputs": [
        {
          "output_type": "execute_result",
          "data": {
            "text/plain": [
              "{'Alpha-2': 'AR', 'gbp': 549840.0, 'name': 'Argentina'}"
            ]
          },
          "metadata": {},
          "execution_count": 88
        }
      ],
      "source": [
        "topo['objects']['countries1']['geometries'][4]['properties']"
      ]
    },
    {
      "cell_type": "code",
      "source": [
        "topo"
      ],
      "metadata": {
        "id": "TUWIFWnBYCoG"
      },
      "execution_count": null,
      "outputs": []
    },
    {
      "cell_type": "code",
      "source": [
        "type(topo)"
      ],
      "metadata": {
        "colab": {
          "base_uri": "https://localhost:8080/"
        },
        "id": "ZAU2nqjCf7xl",
        "outputId": "fb7f6339-b431-47ed-f8e5-549ef36b6c83"
      },
      "execution_count": 90,
      "outputs": [
        {
          "output_type": "execute_result",
          "data": {
            "text/plain": [
              "dict"
            ]
          },
          "metadata": {},
          "execution_count": 90
        }
      ]
    },
    {
      "cell_type": "code",
      "source": [
        "import json\n",
        "open('topojson_export.json','w').write(json.dumps(topo))"
      ],
      "metadata": {
        "colab": {
          "base_uri": "https://localhost:8080/"
        },
        "id": "VU8OzSya424A",
        "outputId": "87189b63-3349-4d39-c7f0-e1a247aaa4ea"
      },
      "execution_count": 91,
      "outputs": [
        {
          "output_type": "execute_result",
          "data": {
            "text/plain": [
              "137519"
            ]
          },
          "metadata": {},
          "execution_count": 91
        }
      ]
    },
    {
      "cell_type": "code",
      "source": [
        "from google.colab import drive\n",
        "drive.mount('/content/drive')"
      ],
      "metadata": {
        "colab": {
          "base_uri": "https://localhost:8080/"
        },
        "id": "jA9-At8zlbpg",
        "outputId": "7157c902-0a0b-4746-8057-f974003cd5b7"
      },
      "execution_count": 92,
      "outputs": [
        {
          "output_type": "stream",
          "name": "stdout",
          "text": [
            "Mounted at /content/drive\n"
          ]
        }
      ]
    }
  ],
  "metadata": {
    "celltoolbar": "Tags",
    "colab": {
      "collapsed_sections": [],
      "name": "maps",
      "provenance": [],
      "include_colab_link": true
    },
    "kernelspec": {
      "display_name": "Python 3",
      "language": "python",
      "name": "python3"
    },
    "language_info": {
      "codemirror_mode": {
        "name": "ipython",
        "version": 3
      },
      "file_extension": ".py",
      "mimetype": "text/x-python",
      "name": "python",
      "nbconvert_exporter": "python",
      "pygments_lexer": "ipython3",
      "version": "3.7.7"
    }
  },
  "nbformat": 4,
  "nbformat_minor": 0
}