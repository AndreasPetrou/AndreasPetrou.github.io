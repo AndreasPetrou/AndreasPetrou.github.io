{
  "nbformat": 4,
  "nbformat_minor": 0,
  "metadata": {
    "colab": {
      "name": "scraperHW.ipynb",
      "provenance": [],
      "collapsed_sections": [],
      "authorship_tag": "ABX9TyPXqOlDXCBFqpUzkv+Kcj4C",
      "include_colab_link": true
    },
    "kernelspec": {
      "name": "python3",
      "display_name": "Python 3"
    },
    "language_info": {
      "name": "python"
    }
  },
  "cells": [
    {
      "cell_type": "markdown",
      "metadata": {
        "id": "view-in-github",
        "colab_type": "text"
      },
      "source": [
        "<a href=\"https://colab.research.google.com/github/AndreasPetrou/AndreasPetrou.github.io/blob/main/scraperHW.ipynb\" target=\"_parent\"><img src=\"https://colab.research.google.com/assets/colab-badge.svg\" alt=\"Open In Colab\"/></a>"
      ]
    },
    {
      "cell_type": "code",
      "metadata": {
        "id": "C7PaNXzn6Tr7"
      },
      "source": [
        "import requests, pandas as pd"
      ],
      "execution_count": null,
      "outputs": []
    },
    {
      "cell_type": "code",
      "metadata": {
        "id": "wK7Whn9x5_Al"
      },
      "source": [
        "from bs4 import BeautifulSoup"
      ],
      "execution_count": null,
      "outputs": []
    },
    {
      "cell_type": "code",
      "metadata": {
        "id": "1-wsCkY1gC72"
      },
      "source": [
        "tables = pd.read_html('https://www.numbeo.com/crime/rankings_by_country.jsp?title=2021&region=039')"
      ],
      "execution_count": null,
      "outputs": []
    },
    {
      "cell_type": "code",
      "metadata": {
        "id": "XBB1gR8kYE0r"
      },
      "source": [
        "df = tables[1]"
      ],
      "execution_count": null,
      "outputs": []
    },
    {
      "cell_type": "code",
      "metadata": {
        "colab": {
          "base_uri": "https://localhost:8080/",
          "height": 452
        },
        "id": "w3i9H5DdYTsZ",
        "outputId": "410f78f1-e25f-48dd-aac8-a678b735a77f"
      },
      "source": [
        "df"
      ],
      "execution_count": null,
      "outputs": [
        {
          "output_type": "execute_result",
          "data": {
            "text/html": [
              "<div>\n",
              "<style scoped>\n",
              "    .dataframe tbody tr th:only-of-type {\n",
              "        vertical-align: middle;\n",
              "    }\n",
              "\n",
              "    .dataframe tbody tr th {\n",
              "        vertical-align: top;\n",
              "    }\n",
              "\n",
              "    .dataframe thead th {\n",
              "        text-align: right;\n",
              "    }\n",
              "</style>\n",
              "<table border=\"1\" class=\"dataframe\">\n",
              "  <thead>\n",
              "    <tr style=\"text-align: right;\">\n",
              "      <th></th>\n",
              "      <th>Rank</th>\n",
              "      <th>Country</th>\n",
              "      <th>Crime Index</th>\n",
              "      <th>Safety Index</th>\n",
              "    </tr>\n",
              "  </thead>\n",
              "  <tbody>\n",
              "    <tr>\n",
              "      <th>0</th>\n",
              "      <td>NaN</td>\n",
              "      <td>Italy</td>\n",
              "      <td>44.37</td>\n",
              "      <td>55.63</td>\n",
              "    </tr>\n",
              "    <tr>\n",
              "      <th>1</th>\n",
              "      <td>NaN</td>\n",
              "      <td>Greece</td>\n",
              "      <td>44.14</td>\n",
              "      <td>55.86</td>\n",
              "    </tr>\n",
              "    <tr>\n",
              "      <th>2</th>\n",
              "      <td>NaN</td>\n",
              "      <td>Bosnia And Herzegovina</td>\n",
              "      <td>43.01</td>\n",
              "      <td>56.99</td>\n",
              "    </tr>\n",
              "    <tr>\n",
              "      <th>3</th>\n",
              "      <td>NaN</td>\n",
              "      <td>Albania</td>\n",
              "      <td>41.64</td>\n",
              "      <td>58.36</td>\n",
              "    </tr>\n",
              "    <tr>\n",
              "      <th>4</th>\n",
              "      <td>NaN</td>\n",
              "      <td>Montenegro</td>\n",
              "      <td>41.61</td>\n",
              "      <td>58.39</td>\n",
              "    </tr>\n",
              "    <tr>\n",
              "      <th>5</th>\n",
              "      <td>NaN</td>\n",
              "      <td>Malta</td>\n",
              "      <td>38.93</td>\n",
              "      <td>61.07</td>\n",
              "    </tr>\n",
              "    <tr>\n",
              "      <th>6</th>\n",
              "      <td>NaN</td>\n",
              "      <td>North Macedonia</td>\n",
              "      <td>38.59</td>\n",
              "      <td>61.41</td>\n",
              "    </tr>\n",
              "    <tr>\n",
              "      <th>7</th>\n",
              "      <td>NaN</td>\n",
              "      <td>Serbia</td>\n",
              "      <td>38.26</td>\n",
              "      <td>61.74</td>\n",
              "    </tr>\n",
              "    <tr>\n",
              "      <th>8</th>\n",
              "      <td>NaN</td>\n",
              "      <td>Kosovo (Disputed Territory)</td>\n",
              "      <td>36.12</td>\n",
              "      <td>63.88</td>\n",
              "    </tr>\n",
              "    <tr>\n",
              "      <th>9</th>\n",
              "      <td>NaN</td>\n",
              "      <td>Spain</td>\n",
              "      <td>33.13</td>\n",
              "      <td>66.87</td>\n",
              "    </tr>\n",
              "    <tr>\n",
              "      <th>10</th>\n",
              "      <td>NaN</td>\n",
              "      <td>Portugal</td>\n",
              "      <td>29.89</td>\n",
              "      <td>70.11</td>\n",
              "    </tr>\n",
              "    <tr>\n",
              "      <th>11</th>\n",
              "      <td>NaN</td>\n",
              "      <td>Croatia</td>\n",
              "      <td>24.91</td>\n",
              "      <td>75.09</td>\n",
              "    </tr>\n",
              "    <tr>\n",
              "      <th>12</th>\n",
              "      <td>NaN</td>\n",
              "      <td>Slovenia</td>\n",
              "      <td>21.79</td>\n",
              "      <td>78.21</td>\n",
              "    </tr>\n",
              "  </tbody>\n",
              "</table>\n",
              "</div>"
            ],
            "text/plain": [
              "    Rank                      Country  Crime Index  Safety Index\n",
              "0    NaN                        Italy        44.37         55.63\n",
              "1    NaN                       Greece        44.14         55.86\n",
              "2    NaN       Bosnia And Herzegovina        43.01         56.99\n",
              "3    NaN                      Albania        41.64         58.36\n",
              "4    NaN                   Montenegro        41.61         58.39\n",
              "5    NaN                        Malta        38.93         61.07\n",
              "6    NaN              North Macedonia        38.59         61.41\n",
              "7    NaN                       Serbia        38.26         61.74\n",
              "8    NaN  Kosovo (Disputed Territory)        36.12         63.88\n",
              "9    NaN                        Spain        33.13         66.87\n",
              "10   NaN                     Portugal        29.89         70.11\n",
              "11   NaN                      Croatia        24.91         75.09\n",
              "12   NaN                     Slovenia        21.79         78.21"
            ]
          },
          "metadata": {},
          "execution_count": 57
        }
      ]
    },
    {
      "cell_type": "code",
      "metadata": {
        "id": "ueeNLMGZYm6c"
      },
      "source": [
        "df.to_csv('crime_safety_csv.csv')"
      ],
      "execution_count": null,
      "outputs": []
    }
  ]
}